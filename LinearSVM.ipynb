{
 "cells": [
  {
   "cell_type": "markdown",
   "metadata": {},
   "source": [
    "# SVM"
   ]
  },
  {
   "cell_type": "markdown",
   "metadata": {},
   "source": [
    "**Classification**\n",
    "\n",
    "Prerequisite：Linearly separable\n",
    "\n",
    "Basic idea is Max Margin Classifier, we have to find the widest road between class1 and class2.\n",
    "\n",
    "\\begin{align}\n",
    "max:margin(w,b)\n",
    "\\\\st.\n",
    "\\left\\{\\begin{matrix}\n",
    "w^Tx_i +b>0,y_i=+1\\\\ \n",
    "w^Tx_i +b<0,y_i=-1\n",
    "\\end{matrix}\\right.\n",
    "\\\\\n",
    " \\Rightarrow y_i(w^{T}x_{i}+b) > 0\\\\\n",
    " \\forall i=1,2,...,N\n",
    "\\end{align}"
   ]
  },
  {
   "cell_type": "markdown",
   "metadata": {},
   "source": [
    "1. For the hard margin:\n",
    "\n",
    "   * We set margin equals 1, and $y_i(w^Tx_i+b)\\geqslant1$;\n",
    "    \n",
    "2. For the soft margin:\n",
    "\n",
    "   * We allow some noise, so that we can increase the robustness of our system. \n",
    "   \n",
    "   * We introduced slckness variable $\\xi$, which represent **loss**. \n",
    "   \n",
    "   * And now the margin function changes to $y_i(w^Tx_i+b)\\geqslant1-\\xi_i,s.t.xi\\geqslant0$\n",
    "\n",
    "\n"
   ]
  },
  {
   "cell_type": "markdown",
   "metadata": {},
   "source": [
    "Suppose we have two classes X and O, for class X:\n",
    "\n",
    "   1. When X is correctly classified, means X locates outside the margin, then $\\xi=0$\n",
    "   2. WHen X is incorrecly classified and locates on the right side of $y_i(w^Tx_i+b)\\geqslant0$,then $0<\\xi\\leqslant0$ \n",
    "   3. When X is on the other side of margin, which means $y_i(w^Tx_i+b)\\leqslant0$, then $\\xi>1$\n",
    "   \n",
    "Based on these 3 conditions, we get the new target funtion:\n",
    "\n",
    "\\begin{align}\n",
    "min_{w,b,\\xi }:\\frac{1}{2}\\left \\| w \\right \\|^{2}+C\\sum_{i=1}^{N}\\xi_i\\\\\n",
    "s.t. \\left\\{\\begin{matrix}y_i(w^Tx_i + b)\\geqslant 1-\\xi_i\n",
    "\\\\ \\xi_i\\geqslant0\\\\\n",
    "\\end{matrix}\\right.\n",
    "\\\\\n",
    "\\end{align}\n",
    "\n",
    "The loss function here called **Hinge Loss**, basically it uses distance to measure **loss**: $\\xi$ represents the distance from a point to its corresponding margin $w^Tx+b=1$ when it is miss-classified.\n",
    "\n",
    "   1. If $w^Tx+b\\geqslant1$, $\\xi_i=0$, No loss, correct.\n",
    "   2. If $w^Tx+b<1$, $\\xi_i=1-y_i(w^Tx+b)$\n",
    "   \n",
    "So now we have:\n",
    "   \\begin{align}\n",
    "\\xi_i =max\\left \\{ 0,1-y_i(w^Tx_i + b) \\right \\}\n",
    "\\end{align}\n",
    "   "
   ]
  },
  {
   "cell_type": "markdown",
   "metadata": {},
   "source": [
    "Base on lagrange duality and KKT conditions, now we get the new target:\n",
    "\n",
    "\n",
    "\n",
    "\\begin{align}\n",
    "min: \\sum_{i=1}^{N}\\alpha_i - \\frac{1}{2}\\sum_{i=1}^{N}\\sum_{j=1}^{N}\\alpha_i\\alpha_jy_iy_jX_i^TX_j\\\\\n",
    "s.t.  \\left\\{\\begin{matrix}\n",
    "0< \\alpha_i<C\\\\\n",
    "\\sum_{i=1}^{N}\\alpha_iy_i=0\n",
    "\\end{matrix}\\right.\n",
    "\\\\\n",
    "\\end{align}\n"
   ]
  },
  {
   "cell_type": "markdown",
   "metadata": {},
   "source": [
    "Optimal Solutions:\n",
    "\n",
    "$W^* = \\sum_{i=1}^{N}x_iy_i\\alpha_i$\n",
    "\n",
    "$b^* = y_i-w^Tx_i$\n",
    "\n"
   ]
  },
  {
   "cell_type": "markdown",
   "metadata": {},
   "source": [
    "#### SMO: Sequential Minimal Optimization"
   ]
  },
  {
   "cell_type": "markdown",
   "metadata": {},
   "source": [
    "Basic idea: SGD and paired $\\alpha$\n",
    "\n",
    "Each time, we only update tow $\\alpha$s, the rest of them were treated as constant **Const**.\n",
    "\n",
    "Now set:\n",
    "\n",
    "1. $K_{ij} = X_i^TX_j$\n",
    "2. $f(x_k)=\\sum_{i=1}^{N}\\alpha_iy_iX_i^Tx_k+b$\n",
    "3. Error: $E_i = f(x_i)-y_i$\n",
    "4. $\\xi=K_{mm}+K_{nn}-2K_{mn}$\n",
    "\n",
    "Then we get:\n",
    "\n",
    "1. $\\alpha_2^{new} = \\alpha_2^{old} + y_2\\frac{(E_1-E_2)}{\\xi}$\n",
    "2. $\\alpha_1^{new}=\\alpha_1^{old}+y_1y_2(\\alpha_2^{old}-\\alpha_2^{new})$\n"
   ]
  },
  {
   "cell_type": "code",
   "execution_count": 1156,
   "metadata": {},
   "outputs": [],
   "source": [
    "import numpy as np\n",
    "import pandas as pd\n",
    "import random\n",
    "from sklearn.model_selection import train_test_split\n",
    "from matplotlib import pyplot as plt\n",
    "import seaborn as sns\n",
    "from sklearn.svm import LinearSVC\n",
    "from sklearn.metrics import confusion_matrix"
   ]
  },
  {
   "cell_type": "code",
   "execution_count": 1157,
   "metadata": {},
   "outputs": [],
   "source": [
    "# input data: feature and target should be in matrix form\n",
    "# data_mat, label_mat"
   ]
  },
  {
   "cell_type": "code",
   "execution_count": 1158,
   "metadata": {},
   "outputs": [],
   "source": [
    "# define a function to randomly choose a paired alpha j\n",
    "def select_rand_j(i,maximun_number):\n",
    "    # i is the input index of alpha, and we need to find a j that is different from i\n",
    "    # maximun_number is the maximun # of samples or rows\n",
    "    j = i\n",
    "    while j==i:\n",
    "        j = int(random.uniform(0,maximun_number))\n",
    "    return j\n"
   ]
  },
  {
   "cell_type": "markdown",
   "metadata": {},
   "source": [
    "Based on KKT condition, $\\sum_{i=1}^{N}\\alpha_iy_i=0$, and each time we only update two $\\alpha$\n",
    "\n",
    "we have $\\alpha_1y_1 + \\alpha_2y_2 + \\sum_{i=3}^{N}\\alpha_iy_i = 0$\n",
    "\n",
    "and $\\alpha_1^{new}y_1 + \\alpha_2^{new}y_2 = \\alpha_1^{old}y_1 + \\alpha_2^{old}y_2 = Constant K$\n",
    "\n",
    "So, for each pair of $\\alpha$, there are upper and lower limits for them"
   ]
  },
  {
   "cell_type": "code",
   "execution_count": 1159,
   "metadata": {},
   "outputs": [],
   "source": [
    "def clip_alpha(alpha, H, L):\n",
    "    if alpha > H:\n",
    "        alpha = H\n",
    "    elif alpha < L:\n",
    "        alpha = L\n",
    "    return alpha"
   ]
  },
  {
   "cell_type": "code",
   "execution_count": 1160,
   "metadata": {},
   "outputs": [],
   "source": [
    "def feature_scale(df):\n",
    "    # Normalization\n",
    "    m,n = np.shape(df)\n",
    "    for i in range(n):\n",
    "        X_min = np.min(df.iloc[:,i])\n",
    "        X_max = np.max(df.iloc[:,i])\n",
    "        if X_max-X_min == 0:\n",
    "            df.iloc[:,i] = df.iloc[:,i]\n",
    "        else:\n",
    "            df.iloc[:,i] = (df.iloc[:,i] - X_min)/(X_max-X_min)\n",
    "    return df"
   ]
  },
  {
   "cell_type": "code",
   "execution_count": 1246,
   "metadata": {},
   "outputs": [],
   "source": [
    "class svc():\n",
    "    def __init__(self,data_mat,label_mat,C,tolerance,iteration,kernel):\n",
    "        self.C = 0.6\n",
    "        self.data_mat = data_mat\n",
    "        self.label_mat = label_mat\n",
    "        self.tolerance = 0.001\n",
    "        self.iteration = 10\n",
    "        self.kernel = kernel\n",
    "    \n",
    "    # feature scaling\n",
    "\n",
    "        \n",
    "    # now define smo function\n",
    "    def smo_simple(self):\n",
    "        # data_mat: feature matrix m*n\n",
    "        # label_mat: label matrix m*1\n",
    "        #label_mat = self.X.copy()\n",
    "        label_mat[label_mat==0]=-1\n",
    "        # C: hyperparameter\n",
    "        b = 0\n",
    "        m, n = np.shape(self.data_mat)\n",
    "        alpha = np.asmatrix(np.zeros((m,1)))\n",
    "        iter = 0\n",
    "        while iter < self.iteration:\n",
    "            # randomly choose an alpha i\n",
    "            # i = rand,uniform(0,m)\n",
    "            alpha_pairs_changed = 0\n",
    "            for i in range(m):\n",
    "                wT = np.dot(np.multiply(alpha,self.label_mat).T,self.data_mat)\n",
    "                f_xi = np.dot(wT,self.data_mat[i,:].T) + b\n",
    "                E_i = f_xi - float(self.label_mat[i])\n",
    "                # if the error is less than tolerance, we stop.\n",
    "                # if E_i * y_i > tolerance, this point locates on the right side\n",
    "                # if E_i * y_i < tolerance, this point locates on the wrong side, and alpha needs to be updated\n",
    "                if ((E_i * self.label_mat[i,:] < -self.tolerance) and (alpha[i]<self.C)) or \\\n",
    "                (( E_i * self.label_mat[i] > self.tolerance) and (alpha[i] > 0)): \n",
    "                    ####?????????????????????????????????\n",
    "                    # Now we need find its paired alpha j\n",
    "                    j = select_rand_j(i,m)\n",
    "                    f_xj = float(np.dot(wT,self.data_mat[j,:].T)) + b\n",
    "                    E_j = f_xj - float(self.label_mat[j])\n",
    "                    alpha_j_old = alpha[j].copy()\n",
    "                    alpha_i_old = alpha[i].copy()\n",
    "                    #print('now {}{}{}{}'.format(E_i,E_j,alpha_i_old,alpha_j_old))\n",
    "                    \n",
    "                    # \n",
    "                    if (self.label_mat[i] != self.label_mat[j]):\n",
    "                        # alpha1 - alpha2 = Constant\n",
    "                        # alpha1 = C - alpha2\n",
    "                        # 0 < alpha < C\n",
    "                        L = max(0,alpha[j] - alpha[i])\n",
    "                        H = min(self.C ,self.C + alpha[j] - alpha[i])\n",
    "                    else:\n",
    "                        # alpha1+alpha2 = constant\n",
    "                        L = max(0,alpha[j] + alpha[i] - self.C) \n",
    "                        H = min(self.C, alpha[j] + alpha[i])\n",
    "                    if L==H:\n",
    "                        \n",
    "                        continue\n",
    "                    #print('L{}'.format(L))\n",
    "                    #print('H{}'.format(H))\n",
    "                    \n",
    "                    \n",
    "                    # 𝜉=𝐾𝑚𝑚+𝐾𝑛𝑛−2𝐾𝑚𝑛\n",
    "#                     eta = np.dot(self.data_mat[i,:],self.data_mat[i,:].T) + np.dot(self.data_mat[j,:],self.data_mat[j,:].T) -\\\n",
    "#                     2.0 * np.dot(self.data_mat[i,:],self.data_mat[j,:].T)\n",
    "                    eta = -np.dot(self.data_mat[i,:],self.data_mat[i,:].T) - np.dot(self.data_mat[j,:],self.data_mat[j,:].T) +\\\n",
    "                    2.0 * np.dot(self.data_mat[i,:],self.data_mat[j,:].T)\n",
    "                    if eta >= 0:\n",
    "                        #print('eta')\n",
    "                        continue\n",
    "                    #print('eat{}'.format(eta))\n",
    "                    alpha[j] = alpha[j] - self.label_mat[j]*(E_i-E_j)/eta\n",
    "                    #print('alpha{},label{}'.format(alpha[j],label_mat[j]))\n",
    "                    alpha[j] = clip_alpha(alpha[j],H,L)\n",
    "                    #print(alpha[j])\n",
    "                    \n",
    "                    if (abs(alpha[j] - alpha_j_old) < 0.00001): #self.tolerance\n",
    "                        #print('tolerance')\n",
    "                        continue\n",
    "\n",
    "                    #𝛼𝑛𝑒𝑤1=𝛼𝑜𝑙𝑑1+𝑦1𝑦2(𝛼𝑜𝑙𝑑2−𝛼𝑛𝑒𝑤2)\n",
    "                    alpha[i] = alpha[i] + self.label_mat[i]*self.label_mat[j]*(alpha_j_old-alpha[j])\n",
    "\n",
    "\n",
    "                    # calculate b\n",
    "\n",
    "                    b1_new = b - E_i - self.label_mat[i]*(alpha[i] - alpha_i_old)*np.dot(self.data_mat[i,:],self.data_mat[i,:].T)\\\n",
    "                                - self.label_mat[j]*(alpha[j]-alpha_j_old)*np.dot(self.data_mat[i,:],self.data_mat[j,:].T)\n",
    "                    b2_new = b - E_j - self.label_mat[i]*(alpha[i] - alpha_i_old)*np.dot(self.data_mat[i,:],self.data_mat[j,:].T)\\\n",
    "                                - self.label_mat[j]*(alpha[j]-alpha_j_old)*np.dot(self.data_mat[j,:],self.data_mat[j,:].T)\n",
    "                    if (0 < alpha[i]) and (alpha[i] < self.C):\n",
    "                        b = b1_new\n",
    "                    elif (0 < alpha[j]) and (alpha[j]< self.C):\n",
    "                        b = b2_new\n",
    "                    else:\n",
    "                        b = (b1_new + b2_new)/2.0\n",
    "                    #print(b)\n",
    "                    alpha_pairs_changed += 1\n",
    "                \n",
    "            if (alpha_pairs_changed == 0): iter += 1\n",
    "            else: iter = 0\n",
    "            \n",
    "        return b, alpha\n"
   ]
  },
  {
   "cell_type": "code",
   "execution_count": 1247,
   "metadata": {},
   "outputs": [],
   "source": [
    "df = pd.read_csv('ex.csv')\n",
    "# feature_scale(df.drop('target',axis=1))\n"
   ]
  },
  {
   "cell_type": "code",
   "execution_count": 1248,
   "metadata": {},
   "outputs": [],
   "source": [
    "feature = feature_scale(df.drop('target',axis=1))\n",
    "target = df['target'].to_frame()\n",
    "df = pd.concat([feature,target],axis=1)\n"
   ]
  },
  {
   "cell_type": "code",
   "execution_count": 1249,
   "metadata": {
    "scrolled": true
   },
   "outputs": [],
   "source": [
    "\n",
    "feature = feature.to_numpy()\n",
    "data_mat = np.asmatrix(feature)\n",
    "target = target.to_numpy()\n",
    "label_mat = np.asmatrix(target)\n"
   ]
  },
  {
   "cell_type": "code",
   "execution_count": 1250,
   "metadata": {},
   "outputs": [
    {
     "data": {
      "image/png": "[encoded data removed]",
      "text/plain": [
       "<Figure size 864x576 with 1 Axes>"
      ]
     },
     "metadata": {
      "needs_background": "light"
     },
     "output_type": "display_data"
    }
   ],
   "source": [
    " \n",
    "positive = df[df['target'].isin([1])]\n",
    "negative = df[df['target'].isin([0])]\n",
    "\n",
    "fig, ax = plt.subplots(figsize=(12,8))\n",
    "ax.scatter(positive['f1'], positive['f2'], s=50, marker='x', label='Positive')\n",
    "ax.scatter(negative['f1'], negative['f2'], s=50, marker='o', label='Negative')\n",
    "ax.legend()\n",
    "plt.show()\n",
    "\n",
    "\n"
   ]
  },
  {
   "cell_type": "code",
   "execution_count": 1251,
   "metadata": {},
   "outputs": [],
   "source": [
    "X = data_mat\n",
    "y = label_mat\n",
    "svm = svc(X,y, C = 0.6, tolerance = 0.001,iteration = 10,kernel= 'RBF')"
   ]
  },
  {
   "cell_type": "code",
   "execution_count": 1252,
   "metadata": {},
   "outputs": [],
   "source": [
    "b, alphas = svm.smo_simple()"
   ]
  },
  {
   "cell_type": "code",
   "execution_count": 1253,
   "metadata": {},
   "outputs": [],
   "source": [
    "w_opt = np.dot(np.multiply(alphas,label_mat).T,data_mat)"
   ]
  },
  {
   "cell_type": "code",
   "execution_count": 1254,
   "metadata": {},
   "outputs": [],
   "source": [
    "prediction = data_mat * w_opt.T + b\n",
    "def sign(x):\n",
    "    ls=[]\n",
    "    for i in range(len(x)):\n",
    "        if x[i] >= 0:\n",
    "            ls.append(1)\n",
    "        else:\n",
    "            ls.append(0)\n",
    "    return ls\n",
    "pred = sign(prediction[:,0])"
   ]
  },
  {
   "cell_type": "code",
   "execution_count": 1255,
   "metadata": {},
   "outputs": [],
   "source": [
    "b = b[0,0]\n",
    "w = w_opt\n",
    "\n",
    "m = np.linspace(0,1)\n",
    "\n",
    "n = (-b - w[0,0]*m)/w[0,1]"
   ]
  },
  {
   "cell_type": "code",
   "execution_count": 1256,
   "metadata": {},
   "outputs": [
    {
     "data": {
      "image/png": "[encoded data removed]",
      "text/plain": [
       "<Figure size 864x576 with 1 Axes>"
      ]
     },
     "metadata": {
      "needs_background": "light"
     },
     "output_type": "display_data"
    }
   ],
   "source": [
    "\n",
    "positive = df[df['target'].isin([1])]\n",
    "negative = df[df['target'].isin([0])]\n",
    "\n",
    "fig, ax = plt.subplots(figsize=(12,8))\n",
    "ax.scatter(positive['f1'], positive['f2'], s=50, marker='x', label='Positive')\n",
    "ax.scatter(negative['f1'], negative['f2'], s=50, marker='o', label='Negative')\n",
    "ax.plot(m,n)\n",
    "ax.legend()\n",
    "plt.show()\n",
    "\n"
   ]
  },
  {
   "cell_type": "code",
   "execution_count": 1257,
   "metadata": {},
   "outputs": [],
   "source": [
    "s = LinearSVC()"
   ]
  },
  {
   "cell_type": "code",
   "execution_count": 1258,
   "metadata": {},
   "outputs": [
    {
     "name": "stderr",
     "output_type": "stream",
     "text": [
      "/Users/qijin/anaconda3/lib/python3.7/site-packages/sklearn/utils/validation.py:760: DataConversionWarning: A column-vector y was passed when a 1d array was expected. Please change the shape of y to (n_samples, ), for example using ravel().\n",
      "  y = column_or_1d(y, warn=True)\n"
     ]
    },
    {
     "data": {
      "text/plain": [
       "LinearSVC(C=1.0, class_weight=None, dual=True, fit_intercept=True,\n",
       "          intercept_scaling=1, loss='squared_hinge', max_iter=1000,\n",
       "          multi_class='ovr', penalty='l2', random_state=None, tol=0.0001,\n",
       "          verbose=0)"
      ]
     },
     "execution_count": 1258,
     "metadata": {},
     "output_type": "execute_result"
    }
   ],
   "source": [
    "s.fit(X= df.drop('target',axis=1), y=df['target'].to_frame())"
   ]
  },
  {
   "cell_type": "code",
   "execution_count": 1259,
   "metadata": {},
   "outputs": [],
   "source": [
    "b = s.intercept_[0]\n",
    "w = s.coef_[0]\n",
    "\n",
    "x = np.linspace(0,1)\n",
    "\n",
    "y = (-b - w[0]*x)/w[1]"
   ]
  },
  {
   "cell_type": "code",
   "execution_count": 1260,
   "metadata": {},
   "outputs": [
    {
     "data": {
      "image/png": "[encoded data removed]",
      "text/plain": [
       "<Figure size 864x576 with 1 Axes>"
      ]
     },
     "metadata": {
      "needs_background": "light"
     },
     "output_type": "display_data"
    }
   ],
   "source": [
    "\n",
    " \n",
    "positive = df[df['target'].isin([1])]\n",
    "negative = df[df['target'].isin([0])]\n",
    "\n",
    "fig, ax = plt.subplots(figsize=(12,8))\n",
    "ax.scatter(positive['f1'], positive['f2'], s=50, marker='x', label='Positive')\n",
    "ax.scatter(negative['f1'], negative['f2'], s=50, marker='o', label='Negative')\n",
    "ax.plot(x,y)\n",
    "ax.legend()\n",
    "plt.show()\n",
    "\n"
   ]
  },
  {
   "cell_type": "code",
   "execution_count": 1261,
   "metadata": {},
   "outputs": [],
   "source": [
    "from sklearn import datasets\n",
    "iris = datasets.load_iris()\n",
    "\n",
    "feature = pd.DataFrame(iris.data,columns=iris.feature_names)\n",
    "target = pd.DataFrame(iris.target,columns=['target'])\n",
    "df = pd.concat([feature,target],axis=1)\n",
    "df = df[df['target']!=2]"
   ]
  },
  {
   "cell_type": "code",
   "execution_count": 1262,
   "metadata": {
    "scrolled": true
   },
   "outputs": [
    {
     "data": {
      "text/plain": [
       "<matplotlib.axes._subplots.AxesSubplot at 0x1a1c35d3d0>"
      ]
     },
     "execution_count": 1262,
     "metadata": {},
     "output_type": "execute_result"
    },
    {
     "data": {
      "image/png": "[encoded data removed]",
      "text/plain": [
       "<Figure size 432x288 with 1 Axes>"
      ]
     },
     "metadata": {
      "needs_background": "light"
     },
     "output_type": "display_data"
    }
   ],
   "source": [
    "sns.countplot(df['target'])"
   ]
  },
  {
   "cell_type": "code",
   "execution_count": 1263,
   "metadata": {},
   "outputs": [
    {
     "data": {
      "text/plain": [
       "pandas.core.frame.DataFrame"
      ]
     },
     "execution_count": 1263,
     "metadata": {},
     "output_type": "execute_result"
    }
   ],
   "source": [
    "df =df.reset_index()\n",
    "target = df['target'].to_frame()\n",
    "feature = df.drop('target',axis=1)\n",
    "type(feature)"
   ]
  },
  {
   "cell_type": "code",
   "execution_count": 1264,
   "metadata": {},
   "outputs": [],
   "source": [
    "feature = feature.to_numpy()\n",
    "data_mat = np.asmatrix(feature)\n",
    "target = target.to_numpy()\n",
    "label_mat = np.asmatrix(target)\n",
    "\n"
   ]
  },
  {
   "cell_type": "code",
   "execution_count": 1265,
   "metadata": {},
   "outputs": [],
   "source": [
    "svm = svc(data_mat = data_mat,label_mat = label_mat, C = 0.6, tolerance = 0.001,iteration = 10,kernel= 'RBF')"
   ]
  },
  {
   "cell_type": "code",
   "execution_count": 1266,
   "metadata": {},
   "outputs": [],
   "source": [
    "b,alphas = svm.smo_simple()\n",
    "w_opt = np.dot(np.multiply(alphas,label_mat).T,data_mat)"
   ]
  },
  {
   "cell_type": "code",
   "execution_count": 1267,
   "metadata": {},
   "outputs": [],
   "source": [
    "from sklearn.metrics import confusion_matrix"
   ]
  },
  {
   "cell_type": "code",
   "execution_count": 1268,
   "metadata": {},
   "outputs": [],
   "source": [
    "prediction = data_mat * w_opt.T + b\n",
    "def sign(x):\n",
    "    ls=[]\n",
    "    for i in range(len(x)):\n",
    "        if x[i] >= 0:\n",
    "            ls.append(1)\n",
    "        else:\n",
    "            ls.append(0)\n",
    "    return ls\n",
    "pred = sign(prediction[:,0])"
   ]
  },
  {
   "cell_type": "code",
   "execution_count": 1270,
   "metadata": {},
   "outputs": [
    {
     "data": {
      "text/plain": [
       "array([[0, 0, 0, 0, 0, 0, 0, 0, 0, 0, 0, 0, 0, 0, 0, 0, 0, 0, 0, 0, 0, 0,\n",
       "        0, 0, 0, 0, 0, 0, 0, 0, 0, 0, 0, 0, 0, 0, 0, 0, 0, 0, 0, 0, 0, 0,\n",
       "        0, 0, 0, 0, 0, 0, 1, 1, 1, 1, 1, 1, 1, 1, 1, 1, 1, 1, 1, 1, 1, 1,\n",
       "        1, 1, 1, 1, 1, 1, 1, 1, 1, 1, 1, 1, 1, 1, 1, 1, 1, 1, 1, 1, 1, 1,\n",
       "        1, 1, 1, 1, 1, 1, 1, 1, 1, 1, 1, 1]])"
      ]
     },
     "execution_count": 1270,
     "metadata": {},
     "output_type": "execute_result"
    }
   ],
   "source": [
    "label_mat[label_mat==-1]=0\n",
    "np.array(label_mat.T)"
   ]
  },
  {
   "cell_type": "code",
   "execution_count": 1271,
   "metadata": {},
   "outputs": [
    {
     "data": {
      "text/plain": [
       "array([0, 0, 0, 0, 0, 0, 0, 0, 0, 0, 0, 0, 0, 0, 0, 0, 0, 0, 0, 0, 0, 0,\n",
       "       0, 0, 0, 0, 0, 0, 0, 0, 0, 0, 0, 0, 0, 0, 0, 0, 0, 0, 0, 0, 0, 0,\n",
       "       0, 0, 0, 0, 0, 0, 1, 1, 1, 1, 1, 1, 1, 1, 1, 1, 1, 1, 1, 1, 1, 1,\n",
       "       1, 1, 1, 1, 1, 1, 1, 1, 1, 1, 1, 1, 1, 1, 1, 1, 1, 1, 1, 1, 1, 1,\n",
       "       1, 1, 1, 1, 1, 1, 1, 1, 1, 1, 1, 1])"
      ]
     },
     "execution_count": 1271,
     "metadata": {},
     "output_type": "execute_result"
    }
   ],
   "source": [
    "np.array(pred)"
   ]
  },
  {
   "cell_type": "code",
   "execution_count": 1272,
   "metadata": {},
   "outputs": [
    {
     "data": {
      "text/plain": [
       "array([[50,  0],\n",
       "       [ 0, 50]])"
      ]
     },
     "execution_count": 1272,
     "metadata": {},
     "output_type": "execute_result"
    }
   ],
   "source": [
    "confusion_matrix(label_mat,pred)"
   ]
  }
 ],
 "metadata": {
  "kernelspec": {
   "display_name": "Python 3",
   "language": "python",
   "name": "python3"
  },
  "language_info": {
   "codemirror_mode": {
    "name": "ipython",
    "version": 3
   },
   "file_extension": ".py",
   "mimetype": "text/x-python",
   "name": "python",
   "nbconvert_exporter": "python",
   "pygments_lexer": "ipython3",
   "version": "3.7.6"
  }
 },
 "nbformat": 4,
 "nbformat_minor": 4
}
